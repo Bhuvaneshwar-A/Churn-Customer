{
 "cells": [
  {
   "cell_type": "code",
   "execution_count": 1,
   "metadata": {
    "id": "7w-dD2QjQcna"
   },
   "outputs": [],
   "source": [
    "#Importing necessary libraries\n",
    "import pandas as pd\n",
    "import numpy as np\n",
    "from sklearn import linear_model\n",
    "from sklearn.preprocessing import LabelEncoder\n",
    "import seaborn as sns\n",
    "import matplotlib.pyplot as plt"
   ]
  },
  {
   "cell_type": "code",
   "execution_count": 2,
   "metadata": {
    "id": "9NbPLZsmQ9ly"
   },
   "outputs": [],
   "source": [
    "#Reading the excel file as DataFrame\n",
    "data = pd.read_excel(\"CHURNDATA (1).xlsx\")\n",
    "df = pd.DataFrame(data=data)"
   ]
  },
  {
   "cell_type": "code",
   "execution_count": 3,
   "metadata": {
    "colab": {
     "base_uri": "https://localhost:8080/",
     "height": 525
    },
    "id": "5hQZCG7SQ-wk",
    "outputId": "f3b24474-edd0-4382-9d16-c95e488c9730"
   },
   "outputs": [
    {
     "data": {
      "text/html": [
       "<div>\n",
       "<style scoped>\n",
       "    .dataframe tbody tr th:only-of-type {\n",
       "        vertical-align: middle;\n",
       "    }\n",
       "\n",
       "    .dataframe tbody tr th {\n",
       "        vertical-align: top;\n",
       "    }\n",
       "\n",
       "    .dataframe thead th {\n",
       "        text-align: right;\n",
       "    }\n",
       "</style>\n",
       "<table border=\"1\" class=\"dataframe\">\n",
       "  <thead>\n",
       "    <tr style=\"text-align: right;\">\n",
       "      <th></th>\n",
       "      <th>CIF</th>\n",
       "      <th>CUS_DOB</th>\n",
       "      <th>AGE</th>\n",
       "      <th>CUS_Month_Income</th>\n",
       "      <th>CUS_Gender</th>\n",
       "      <th>CUS_Marital_Status</th>\n",
       "      <th>CUS_Customer_Since</th>\n",
       "      <th>YEARS_WITH_US</th>\n",
       "      <th># total debit transactions for S1</th>\n",
       "      <th># total debit transactions for S2</th>\n",
       "      <th>...</th>\n",
       "      <th>total credit amount for S2</th>\n",
       "      <th>total credit amount for S3</th>\n",
       "      <th>total debit amount</th>\n",
       "      <th>total debit transactions</th>\n",
       "      <th>total credit amount</th>\n",
       "      <th>total credit transactions</th>\n",
       "      <th>total transactions</th>\n",
       "      <th>CUS_Target</th>\n",
       "      <th>TAR_Desc</th>\n",
       "      <th>Status</th>\n",
       "    </tr>\n",
       "  </thead>\n",
       "  <tbody>\n",
       "    <tr>\n",
       "      <th>0</th>\n",
       "      <td>XXXXXX</td>\n",
       "      <td>Feb 13 1970 12:00AM</td>\n",
       "      <td>49</td>\n",
       "      <td>7116.64</td>\n",
       "      <td>MALE</td>\n",
       "      <td>MARRIED</td>\n",
       "      <td>1994-06-30</td>\n",
       "      <td>25</td>\n",
       "      <td>277</td>\n",
       "      <td>265</td>\n",
       "      <td>...</td>\n",
       "      <td>1764079.61</td>\n",
       "      <td>2378592.62</td>\n",
       "      <td>4758311.63</td>\n",
       "      <td>887</td>\n",
       "      <td>5659653.33</td>\n",
       "      <td>65</td>\n",
       "      <td>952</td>\n",
       "      <td>2231</td>\n",
       "      <td>EXECUTIVE</td>\n",
       "      <td>ACTIVE</td>\n",
       "    </tr>\n",
       "    <tr>\n",
       "      <th>1</th>\n",
       "      <td>XXXXXX</td>\n",
       "      <td>Sep 20 1973 12:00AM</td>\n",
       "      <td>46</td>\n",
       "      <td>1500000.00</td>\n",
       "      <td>FEMALE</td>\n",
       "      <td>SINGLE</td>\n",
       "      <td>2005-05-19</td>\n",
       "      <td>14</td>\n",
       "      <td>37</td>\n",
       "      <td>15</td>\n",
       "      <td>...</td>\n",
       "      <td>19500.00</td>\n",
       "      <td>57500.00</td>\n",
       "      <td>139363.22</td>\n",
       "      <td>97</td>\n",
       "      <td>87000.00</td>\n",
       "      <td>10</td>\n",
       "      <td>107</td>\n",
       "      <td>2223</td>\n",
       "      <td>LOW</td>\n",
       "      <td>ACTIVE</td>\n",
       "    </tr>\n",
       "    <tr>\n",
       "      <th>2</th>\n",
       "      <td>XXXXXX</td>\n",
       "      <td>Jul 18 1966 12:00AM</td>\n",
       "      <td>53</td>\n",
       "      <td>5000000.00</td>\n",
       "      <td>FEMALE</td>\n",
       "      <td>SINGLE</td>\n",
       "      <td>2005-05-20</td>\n",
       "      <td>14</td>\n",
       "      <td>31</td>\n",
       "      <td>14</td>\n",
       "      <td>...</td>\n",
       "      <td>240311.84</td>\n",
       "      <td>70946.86</td>\n",
       "      <td>37375.46</td>\n",
       "      <td>53</td>\n",
       "      <td>1020883.70</td>\n",
       "      <td>27</td>\n",
       "      <td>80</td>\n",
       "      <td>2222</td>\n",
       "      <td>MIDLE</td>\n",
       "      <td>ACTIVE</td>\n",
       "    </tr>\n",
       "    <tr>\n",
       "      <th>3</th>\n",
       "      <td>XXXXXX</td>\n",
       "      <td>Jan  9 2004 12:00AM</td>\n",
       "      <td>15</td>\n",
       "      <td>500.00</td>\n",
       "      <td>FEMALE</td>\n",
       "      <td>SINGLE</td>\n",
       "      <td>2005-05-20</td>\n",
       "      <td>14</td>\n",
       "      <td>0</td>\n",
       "      <td>1</td>\n",
       "      <td>...</td>\n",
       "      <td>28089.99</td>\n",
       "      <td>18753.92</td>\n",
       "      <td>4000.00</td>\n",
       "      <td>1</td>\n",
       "      <td>76946.96</td>\n",
       "      <td>12</td>\n",
       "      <td>13</td>\n",
       "      <td>2223</td>\n",
       "      <td>LOW</td>\n",
       "      <td>ACTIVE</td>\n",
       "    </tr>\n",
       "    <tr>\n",
       "      <th>4</th>\n",
       "      <td>XXXXXX</td>\n",
       "      <td>Mar  7 1971 12:00AM</td>\n",
       "      <td>48</td>\n",
       "      <td>9000000.00</td>\n",
       "      <td>FEMALE</td>\n",
       "      <td>SINGLE</td>\n",
       "      <td>2014-06-30</td>\n",
       "      <td>5</td>\n",
       "      <td>15</td>\n",
       "      <td>33</td>\n",
       "      <td>...</td>\n",
       "      <td>176000.00</td>\n",
       "      <td>70500.00</td>\n",
       "      <td>338470.29</td>\n",
       "      <td>60</td>\n",
       "      <td>442100.00</td>\n",
       "      <td>21</td>\n",
       "      <td>81</td>\n",
       "      <td>2223</td>\n",
       "      <td>LOW</td>\n",
       "      <td>ACTIVE</td>\n",
       "    </tr>\n",
       "  </tbody>\n",
       "</table>\n",
       "<p>5 rows × 28 columns</p>\n",
       "</div>"
      ],
      "text/plain": [
       "      CIF              CUS_DOB  AGE  CUS_Month_Income CUS_Gender  \\\n",
       "0  XXXXXX  Feb 13 1970 12:00AM   49           7116.64       MALE   \n",
       "1  XXXXXX  Sep 20 1973 12:00AM   46        1500000.00     FEMALE   \n",
       "2  XXXXXX  Jul 18 1966 12:00AM   53        5000000.00     FEMALE   \n",
       "3  XXXXXX  Jan  9 2004 12:00AM   15            500.00     FEMALE   \n",
       "4  XXXXXX  Mar  7 1971 12:00AM   48        9000000.00     FEMALE   \n",
       "\n",
       "  CUS_Marital_Status CUS_Customer_Since  YEARS_WITH_US  \\\n",
       "0            MARRIED         1994-06-30             25   \n",
       "1             SINGLE         2005-05-19             14   \n",
       "2             SINGLE         2005-05-20             14   \n",
       "3             SINGLE         2005-05-20             14   \n",
       "4             SINGLE         2014-06-30              5   \n",
       "\n",
       "   # total debit transactions for S1  # total debit transactions for S2  ...  \\\n",
       "0                                277                                265  ...   \n",
       "1                                 37                                 15  ...   \n",
       "2                                 31                                 14  ...   \n",
       "3                                  0                                  1  ...   \n",
       "4                                 15                                 33  ...   \n",
       "\n",
       "   total credit amount for S2  total credit amount for S3  total debit amount  \\\n",
       "0                  1764079.61                  2378592.62          4758311.63   \n",
       "1                    19500.00                    57500.00           139363.22   \n",
       "2                   240311.84                    70946.86            37375.46   \n",
       "3                    28089.99                    18753.92             4000.00   \n",
       "4                   176000.00                    70500.00           338470.29   \n",
       "\n",
       "   total debit transactions  total credit amount  total credit transactions  \\\n",
       "0                       887           5659653.33                         65   \n",
       "1                        97             87000.00                         10   \n",
       "2                        53           1020883.70                         27   \n",
       "3                         1             76946.96                         12   \n",
       "4                        60            442100.00                         21   \n",
       "\n",
       "   total transactions  CUS_Target   TAR_Desc  Status  \n",
       "0                 952        2231  EXECUTIVE  ACTIVE  \n",
       "1                 107        2223        LOW  ACTIVE  \n",
       "2                  80        2222      MIDLE  ACTIVE  \n",
       "3                  13        2223        LOW  ACTIVE  \n",
       "4                  81        2223        LOW  ACTIVE  \n",
       "\n",
       "[5 rows x 28 columns]"
      ]
     },
     "execution_count": 3,
     "metadata": {},
     "output_type": "execute_result"
    }
   ],
   "source": [
    "#Seeing top 5 rows and columns\n",
    "df.head()"
   ]
  },
  {
   "cell_type": "code",
   "execution_count": 4,
   "metadata": {
    "colab": {
     "base_uri": "https://localhost:8080/",
     "height": 525
    },
    "id": "GQWgqWxMRWYk",
    "outputId": "1df33eb3-356d-4918-fe16-74ec504245e7",
    "scrolled": true
   },
   "outputs": [
    {
     "data": {
      "text/html": [
       "<div>\n",
       "<style scoped>\n",
       "    .dataframe tbody tr th:only-of-type {\n",
       "        vertical-align: middle;\n",
       "    }\n",
       "\n",
       "    .dataframe tbody tr th {\n",
       "        vertical-align: top;\n",
       "    }\n",
       "\n",
       "    .dataframe thead th {\n",
       "        text-align: right;\n",
       "    }\n",
       "</style>\n",
       "<table border=\"1\" class=\"dataframe\">\n",
       "  <thead>\n",
       "    <tr style=\"text-align: right;\">\n",
       "      <th></th>\n",
       "      <th>CIF</th>\n",
       "      <th>CUS_DOB</th>\n",
       "      <th>AGE</th>\n",
       "      <th>CUS_Month_Income</th>\n",
       "      <th>CUS_Gender</th>\n",
       "      <th>CUS_Marital_Status</th>\n",
       "      <th>CUS_Customer_Since</th>\n",
       "      <th>YEARS_WITH_US</th>\n",
       "      <th># total debit transactions for S1</th>\n",
       "      <th># total debit transactions for S2</th>\n",
       "      <th>...</th>\n",
       "      <th>total credit amount for S2</th>\n",
       "      <th>total credit amount for S3</th>\n",
       "      <th>total debit amount</th>\n",
       "      <th>total debit transactions</th>\n",
       "      <th>total credit amount</th>\n",
       "      <th>total credit transactions</th>\n",
       "      <th>total transactions</th>\n",
       "      <th>CUS_Target</th>\n",
       "      <th>TAR_Desc</th>\n",
       "      <th>Status</th>\n",
       "    </tr>\n",
       "  </thead>\n",
       "  <tbody>\n",
       "    <tr>\n",
       "      <th>1244</th>\n",
       "      <td>XXXXXX</td>\n",
       "      <td>Sep 10 1951 12:00AM</td>\n",
       "      <td>68</td>\n",
       "      <td>4500.0</td>\n",
       "      <td>MALE</td>\n",
       "      <td>SINGLE</td>\n",
       "      <td>2005-07-25</td>\n",
       "      <td>14</td>\n",
       "      <td>13</td>\n",
       "      <td>12</td>\n",
       "      <td>...</td>\n",
       "      <td>0.00</td>\n",
       "      <td>0.00</td>\n",
       "      <td>5645.60</td>\n",
       "      <td>26</td>\n",
       "      <td>0.00</td>\n",
       "      <td>0</td>\n",
       "      <td>26</td>\n",
       "      <td>2223</td>\n",
       "      <td>LOW</td>\n",
       "      <td>CHURN</td>\n",
       "    </tr>\n",
       "    <tr>\n",
       "      <th>1245</th>\n",
       "      <td>XXXXXX</td>\n",
       "      <td>Mar 23 1984 12:00AM</td>\n",
       "      <td>35</td>\n",
       "      <td>3500000.0</td>\n",
       "      <td>MALE</td>\n",
       "      <td>SINGLE</td>\n",
       "      <td>2005-07-27</td>\n",
       "      <td>14</td>\n",
       "      <td>55</td>\n",
       "      <td>35</td>\n",
       "      <td>...</td>\n",
       "      <td>119137.62</td>\n",
       "      <td>440891.65</td>\n",
       "      <td>385735.90</td>\n",
       "      <td>127</td>\n",
       "      <td>674630.41</td>\n",
       "      <td>22</td>\n",
       "      <td>149</td>\n",
       "      <td>2222</td>\n",
       "      <td>MIDLE</td>\n",
       "      <td>ACTIVE</td>\n",
       "    </tr>\n",
       "    <tr>\n",
       "      <th>1246</th>\n",
       "      <td>XXXXXX</td>\n",
       "      <td>Feb  4 1985 12:00AM</td>\n",
       "      <td>34</td>\n",
       "      <td>1000.0</td>\n",
       "      <td>MALE</td>\n",
       "      <td>SINGLE</td>\n",
       "      <td>2005-07-25</td>\n",
       "      <td>14</td>\n",
       "      <td>415</td>\n",
       "      <td>368</td>\n",
       "      <td>...</td>\n",
       "      <td>733658.65</td>\n",
       "      <td>971555.27</td>\n",
       "      <td>2473621.68</td>\n",
       "      <td>1207</td>\n",
       "      <td>2641348.01</td>\n",
       "      <td>217</td>\n",
       "      <td>1424</td>\n",
       "      <td>2232</td>\n",
       "      <td>MIDLE</td>\n",
       "      <td>ACTIVE</td>\n",
       "    </tr>\n",
       "    <tr>\n",
       "      <th>1247</th>\n",
       "      <td>XXXXXX</td>\n",
       "      <td>Feb  3 1950 12:00AM</td>\n",
       "      <td>69</td>\n",
       "      <td>2000000.0</td>\n",
       "      <td>MALE</td>\n",
       "      <td>SINGLE</td>\n",
       "      <td>2005-07-26</td>\n",
       "      <td>14</td>\n",
       "      <td>147</td>\n",
       "      <td>202</td>\n",
       "      <td>...</td>\n",
       "      <td>532708.75</td>\n",
       "      <td>400814.60</td>\n",
       "      <td>1371852.22</td>\n",
       "      <td>583</td>\n",
       "      <td>1310768.35</td>\n",
       "      <td>48</td>\n",
       "      <td>631</td>\n",
       "      <td>2222</td>\n",
       "      <td>MIDLE</td>\n",
       "      <td>ACTIVE</td>\n",
       "    </tr>\n",
       "    <tr>\n",
       "      <th>1248</th>\n",
       "      <td>XXXXXX</td>\n",
       "      <td>Feb 23 1961 12:00AM</td>\n",
       "      <td>58</td>\n",
       "      <td>5000000.0</td>\n",
       "      <td>FEMALE</td>\n",
       "      <td>SINGLE</td>\n",
       "      <td>2005-07-26</td>\n",
       "      <td>14</td>\n",
       "      <td>76</td>\n",
       "      <td>88</td>\n",
       "      <td>...</td>\n",
       "      <td>422000.00</td>\n",
       "      <td>214350.00</td>\n",
       "      <td>761827.91</td>\n",
       "      <td>233</td>\n",
       "      <td>666850.00</td>\n",
       "      <td>37</td>\n",
       "      <td>270</td>\n",
       "      <td>2222</td>\n",
       "      <td>MIDLE</td>\n",
       "      <td>ACTIVE</td>\n",
       "    </tr>\n",
       "  </tbody>\n",
       "</table>\n",
       "<p>5 rows × 28 columns</p>\n",
       "</div>"
      ],
      "text/plain": [
       "         CIF              CUS_DOB  AGE  CUS_Month_Income CUS_Gender  \\\n",
       "1244  XXXXXX  Sep 10 1951 12:00AM   68            4500.0       MALE   \n",
       "1245  XXXXXX  Mar 23 1984 12:00AM   35         3500000.0       MALE   \n",
       "1246  XXXXXX  Feb  4 1985 12:00AM   34            1000.0       MALE   \n",
       "1247  XXXXXX  Feb  3 1950 12:00AM   69         2000000.0       MALE   \n",
       "1248  XXXXXX  Feb 23 1961 12:00AM   58         5000000.0     FEMALE   \n",
       "\n",
       "     CUS_Marital_Status CUS_Customer_Since  YEARS_WITH_US  \\\n",
       "1244             SINGLE         2005-07-25             14   \n",
       "1245             SINGLE         2005-07-27             14   \n",
       "1246             SINGLE         2005-07-25             14   \n",
       "1247             SINGLE         2005-07-26             14   \n",
       "1248             SINGLE         2005-07-26             14   \n",
       "\n",
       "      # total debit transactions for S1  # total debit transactions for S2  \\\n",
       "1244                                 13                                 12   \n",
       "1245                                 55                                 35   \n",
       "1246                                415                                368   \n",
       "1247                                147                                202   \n",
       "1248                                 76                                 88   \n",
       "\n",
       "      ...  total credit amount for S2  total credit amount for S3  \\\n",
       "1244  ...                        0.00                        0.00   \n",
       "1245  ...                   119137.62                   440891.65   \n",
       "1246  ...                   733658.65                   971555.27   \n",
       "1247  ...                   532708.75                   400814.60   \n",
       "1248  ...                   422000.00                   214350.00   \n",
       "\n",
       "      total debit amount  total debit transactions  total credit amount  \\\n",
       "1244             5645.60                        26                 0.00   \n",
       "1245           385735.90                       127            674630.41   \n",
       "1246          2473621.68                      1207           2641348.01   \n",
       "1247          1371852.22                       583           1310768.35   \n",
       "1248           761827.91                       233            666850.00   \n",
       "\n",
       "      total credit transactions  total transactions  CUS_Target  TAR_Desc  \\\n",
       "1244                          0                  26        2223       LOW   \n",
       "1245                         22                 149        2222     MIDLE   \n",
       "1246                        217                1424        2232     MIDLE   \n",
       "1247                         48                 631        2222     MIDLE   \n",
       "1248                         37                 270        2222     MIDLE   \n",
       "\n",
       "      Status  \n",
       "1244   CHURN  \n",
       "1245  ACTIVE  \n",
       "1246  ACTIVE  \n",
       "1247  ACTIVE  \n",
       "1248  ACTIVE  \n",
       "\n",
       "[5 rows x 28 columns]"
      ]
     },
     "execution_count": 4,
     "metadata": {},
     "output_type": "execute_result"
    }
   ],
   "source": [
    "#Seeing last 5 rows and columns\n",
    "df.tail()"
   ]
  },
  {
   "cell_type": "code",
   "execution_count": 5,
   "metadata": {},
   "outputs": [],
   "source": [
    "df['CIF'].value_counts()\n",
    "df.drop(columns=['CIF'],inplace=True)"
   ]
  },
  {
   "cell_type": "code",
   "execution_count": 6,
   "metadata": {
    "colab": {
     "base_uri": "https://localhost:8080/"
    },
    "id": "fGQ67fir-JHN",
    "outputId": "91f047ac-e798-43e0-8fdf-8d2a4e3502fc"
   },
   "outputs": [
    {
     "name": "stdout",
     "output_type": "stream",
     "text": [
      "<class 'pandas.core.frame.DataFrame'>\n",
      "RangeIndex: 1249 entries, 0 to 1248\n",
      "Data columns (total 27 columns):\n",
      " #   Column                              Non-Null Count  Dtype         \n",
      "---  ------                              --------------  -----         \n",
      " 0   CUS_DOB                             1249 non-null   object        \n",
      " 1   AGE                                 1249 non-null   int64         \n",
      " 2   CUS_Month_Income                    1238 non-null   float64       \n",
      " 3   CUS_Gender                          1247 non-null   object        \n",
      " 4   CUS_Marital_Status                  1249 non-null   object        \n",
      " 5   CUS_Customer_Since                  1249 non-null   datetime64[ns]\n",
      " 6   YEARS_WITH_US                       1249 non-null   int64         \n",
      " 7   # total debit transactions for S1   1249 non-null   int64         \n",
      " 8   # total debit transactions for S2   1249 non-null   int64         \n",
      " 9   # total debit transactions for S3   1249 non-null   int64         \n",
      " 10  total debit amount for S1           1249 non-null   float64       \n",
      " 11  total debit amount for S2           1249 non-null   float64       \n",
      " 12  total debit amount for S3           1249 non-null   float64       \n",
      " 13  # total credit transactions for S1  1249 non-null   int64         \n",
      " 14  # total credit transactions for S2  1249 non-null   int64         \n",
      " 15  # total credit transactions for S3  1249 non-null   int64         \n",
      " 16  total credit amount for S1          1249 non-null   float64       \n",
      " 17  total credit amount for S2          1249 non-null   float64       \n",
      " 18  total credit amount for S3          1249 non-null   float64       \n",
      " 19  total debit amount                  1249 non-null   float64       \n",
      " 20  total debit transactions            1249 non-null   int64         \n",
      " 21  total credit amount                 1249 non-null   float64       \n",
      " 22  total credit transactions           1249 non-null   int64         \n",
      " 23  total transactions                  1249 non-null   int64         \n",
      " 24  CUS_Target                          1249 non-null   int64         \n",
      " 25  TAR_Desc                            1249 non-null   object        \n",
      " 26  Status                              1249 non-null   object        \n",
      "dtypes: datetime64[ns](1), float64(9), int64(12), object(5)\n",
      "memory usage: 263.6+ KB\n"
     ]
    }
   ],
   "source": [
    "df.info()"
   ]
  },
  {
   "cell_type": "markdown",
   "metadata": {
    "id": "MN2x0myODbly"
   },
   "source": [
    "## Exploratory data analysis"
   ]
  },
  {
   "cell_type": "code",
   "execution_count": 7,
   "metadata": {
    "colab": {
     "base_uri": "https://localhost:8080/",
     "height": 389
    },
    "id": "mHcah15I-Im9",
    "outputId": "e015a29f-289e-48c4-921a-8bc921c63146"
   },
   "outputs": [
    {
     "data": {
      "image/png": "[encoded data removed]",
      "text/plain": [
       "<Figure size 432x432 with 1 Axes>"
      ]
     },
     "metadata": {
      "needs_background": "light"
     },
     "output_type": "display_data"
    }
   ],
   "source": [
    "plt.figure(figsize=(6, 6))\n",
    "sns.countplot(data=df, x=\"CUS_Gender\", hue=\"Status\")\n",
    "plt.show()"
   ]
  },
  {
   "cell_type": "code",
   "execution_count": 8,
   "metadata": {
    "colab": {
     "base_uri": "https://localhost:8080/",
     "height": 386
    },
    "id": "yKJNI6YFBLsH",
    "outputId": "15b6c01b-2914-4e5f-bffc-cf8076e303f9"
   },
   "outputs": [
    {
     "data": {
      "text/plain": [
       "<Figure size 540x540 with 0 Axes>"
      ]
     },
     "metadata": {},
     "output_type": "display_data"
    },
    {
     "data": {
      "image/png": "[encoded data removed]",
      "text/plain": [
       "<Figure size 540x360 with 1 Axes>"
      ]
     },
     "metadata": {
      "needs_background": "light"
     },
     "output_type": "display_data"
    }
   ],
   "source": [
    "plt.figure(figsize=(6, 6), dpi=90)\n",
    "sns.displot(df[\"AGE\"], aspect=1.5)\n",
    "plt.show()"
   ]
  },
  {
   "cell_type": "code",
   "execution_count": 9,
   "metadata": {
    "colab": {
     "base_uri": "https://localhost:8080/",
     "height": 482
    },
    "id": "mNhQrb-yBL4F",
    "outputId": "c9739e60-c47d-42a0-f08a-11c1a8b7fe6e"
   },
   "outputs": [
    {
     "data": {
      "image/png": "[encoded data removed]",
      "text/plain": [
       "<Figure size 540x540 with 1 Axes>"
      ]
     },
     "metadata": {
      "needs_background": "light"
     },
     "output_type": "display_data"
    }
   ],
   "source": [
    "plt.figure(figsize=(6, 6), dpi=90)\n",
    "sns.countplot(data=df, x=\"CUS_Marital_Status\", hue=\"Status\")\n",
    "plt.show()"
   ]
  },
  {
   "cell_type": "code",
   "execution_count": 10,
   "metadata": {
    "colab": {
     "base_uri": "https://localhost:8080/",
     "height": 482
    },
    "id": "BD7LsMVTEBRf",
    "outputId": "b8ac6b31-cad1-4fbe-eae0-9f6579b08819",
    "scrolled": false
   },
   "outputs": [
    {
     "data": {
      "image/png": "[encoded data removed]",
      "text/plain": [
       "<Figure size 540x540 with 1 Axes>"
      ]
     },
     "metadata": {
      "needs_background": "light"
     },
     "output_type": "display_data"
    }
   ],
   "source": [
    "plt.figure(figsize=(6, 6), dpi=90)\n",
    "sns.countplot(data=df, x=\"TAR_Desc\", hue=\"Status\")\n",
    "plt.show()"
   ]
  },
  {
   "cell_type": "code",
   "execution_count": 11,
   "metadata": {},
   "outputs": [
    {
     "data": {
      "image/png": "[encoded data removed]",
      "text/plain": [
       "<Figure size 432x288 with 1 Axes>"
      ]
     },
     "metadata": {
      "needs_background": "light"
     },
     "output_type": "display_data"
    }
   ],
   "source": [
    "sns.countplot(x='TAR_Desc',data=df)\n",
    "plt.show()"
   ]
  },
  {
   "cell_type": "code",
   "execution_count": 12,
   "metadata": {
    "colab": {
     "base_uri": "https://localhost:8080/",
     "height": 369
    },
    "id": "kUXUaC2ZHZJx",
    "outputId": "e9927469-9d7f-419f-84bd-30f5dfe220ec"
   },
   "outputs": [
    {
     "data": {
      "image/png": "[encoded data removed]",
      "text/plain": [
       "<Figure size 612.125x360 with 1 Axes>"
      ]
     },
     "metadata": {
      "needs_background": "light"
     },
     "output_type": "display_data"
    }
   ],
   "source": [
    "sns.catplot(data=df, x=\"YEARS_WITH_US\", y=\"TAR_Desc\", kind=\"bar\", hue=\"Status\", aspect=1.5)\n",
    "plt.show()"
   ]
  },
  {
   "cell_type": "code",
   "execution_count": 13,
   "metadata": {
    "id": "Ov-ilctR-tPN"
   },
   "outputs": [],
   "source": [
    "# Converted the DOB to datetime format and set the customers year\n",
    "df[\"CUS_birth_year\"] = pd.to_datetime(df[\"CUS_DOB\"]).dt.year"
   ]
  },
  {
   "cell_type": "code",
   "execution_count": 14,
   "metadata": {
    "colab": {
     "base_uri": "https://localhost:8080/"
    },
    "id": "t4M4J6jW-9S7",
    "outputId": "de4337a2-f7ac-4286-9a5a-0c48c09b9c2d"
   },
   "outputs": [
    {
     "data": {
      "text/plain": [
       "2005"
      ]
     },
     "execution_count": 14,
     "metadata": {},
     "output_type": "execute_result"
    }
   ],
   "source": [
    "df[\"CUS_birth_year\"].max()"
   ]
  },
  {
   "cell_type": "code",
   "execution_count": 15,
   "metadata": {
    "colab": {
     "base_uri": "https://localhost:8080/"
    },
    "id": "vr5-I_BX_ExL",
    "outputId": "9874eaef-7e56-4bcd-8d8d-7aa2a5269e3f"
   },
   "outputs": [
    {
     "data": {
      "text/plain": [
       "1900"
      ]
     },
     "execution_count": 15,
     "metadata": {},
     "output_type": "execute_result"
    }
   ],
   "source": [
    "df[\"CUS_birth_year\"].min()"
   ]
  },
  {
   "cell_type": "code",
   "execution_count": 16,
   "metadata": {
    "colab": {
     "base_uri": "https://localhost:8080/",
     "height": 369
    },
    "id": "A1ofK0xCJ52N",
    "outputId": "203e3090-8cd7-40d0-94a5-ca972147f4d3"
   },
   "outputs": [
    {
     "data": {
      "image/png": "[encoded data removed]",
      "text/plain": [
       "<Figure size 612.125x360 with 1 Axes>"
      ]
     },
     "metadata": {
      "needs_background": "light"
     },
     "output_type": "display_data"
    }
   ],
   "source": [
    "# plt.figure(figsize=(6, 6), dpi=90)\n",
    "sns.displot(data=df, x=\"CUS_birth_year\", hue=\"Status\", aspect=1.5, multiple=\"stack\")\n",
    "plt.xticks([1900, 1930, 1960, 1990, 2005])\n",
    "plt.show()"
   ]
  },
  {
   "cell_type": "code",
   "execution_count": 17,
   "metadata": {
    "colab": {
     "base_uri": "https://localhost:8080/"
    },
    "id": "SrZvNLYf_VYC",
    "outputId": "5c665c60-f4cb-4fb4-bcc7-2eff57679554"
   },
   "outputs": [
    {
     "name": "stdout",
     "output_type": "stream",
     "text": [
      "number of duplicates: 0\n"
     ]
    }
   ],
   "source": [
    "# Checking for duplicate rows\n",
    "print(\"number of duplicates:\", df.duplicated().sum())"
   ]
  },
  {
   "cell_type": "code",
   "execution_count": 18,
   "metadata": {
    "colab": {
     "base_uri": "https://localhost:8080/"
    },
    "id": "qZmnXtauAeKv",
    "outputId": "b847afb4-9e75-4323-f6b0-a2d5d67c16a7"
   },
   "outputs": [
    {
     "name": "stdout",
     "output_type": "stream",
     "text": [
      "CUS_DOB                                0\n",
      "AGE                                    0\n",
      "CUS_Month_Income                      11\n",
      "CUS_Gender                             2\n",
      "CUS_Marital_Status                     0\n",
      "CUS_Customer_Since                     0\n",
      "YEARS_WITH_US                          0\n",
      "# total debit transactions for S1      0\n",
      "# total debit transactions for S2      0\n",
      "# total debit transactions for S3      0\n",
      "total debit amount for S1              0\n",
      "total debit amount for S2              0\n",
      "total debit amount for S3              0\n",
      "# total credit transactions for S1     0\n",
      "# total credit transactions for S2     0\n",
      "# total credit transactions for S3     0\n",
      "total credit amount for S1             0\n",
      "total credit amount for S2             0\n",
      "total credit amount for S3             0\n",
      "total debit amount                     0\n",
      "total debit transactions               0\n",
      "total credit amount                    0\n",
      "total credit transactions              0\n",
      "total transactions                     0\n",
      "CUS_Target                             0\n",
      "TAR_Desc                               0\n",
      "Status                                 0\n",
      "CUS_birth_year                         0\n",
      "dtype: int64\n"
     ]
    }
   ],
   "source": [
    "print(df.isnull().sum())"
   ]
  },
  {
   "cell_type": "code",
   "execution_count": 19,
   "metadata": {
    "id": "0_7g99kdAKdA"
   },
   "outputs": [],
   "source": [
    "# Dropping np.nan values\n",
    "df.dropna(inplace=True)"
   ]
  },
  {
   "cell_type": "code",
   "execution_count": 20,
   "metadata": {
    "colab": {
     "base_uri": "https://localhost:8080/"
    },
    "id": "q2hou79zAOat",
    "outputId": "c86317ae-b048-4dde-b49c-9b3f8d5b8188"
   },
   "outputs": [
    {
     "name": "stdout",
     "output_type": "stream",
     "text": [
      "CUS_DOB                               0\n",
      "AGE                                   0\n",
      "CUS_Month_Income                      0\n",
      "CUS_Gender                            0\n",
      "CUS_Marital_Status                    0\n",
      "CUS_Customer_Since                    0\n",
      "YEARS_WITH_US                         0\n",
      "# total debit transactions for S1     0\n",
      "# total debit transactions for S2     0\n",
      "# total debit transactions for S3     0\n",
      "total debit amount for S1             0\n",
      "total debit amount for S2             0\n",
      "total debit amount for S3             0\n",
      "# total credit transactions for S1    0\n",
      "# total credit transactions for S2    0\n",
      "# total credit transactions for S3    0\n",
      "total credit amount for S1            0\n",
      "total credit amount for S2            0\n",
      "total credit amount for S3            0\n",
      "total debit amount                    0\n",
      "total debit transactions              0\n",
      "total credit amount                   0\n",
      "total credit transactions             0\n",
      "total transactions                    0\n",
      "CUS_Target                            0\n",
      "TAR_Desc                              0\n",
      "Status                                0\n",
      "CUS_birth_year                        0\n",
      "dtype: int64\n"
     ]
    }
   ],
   "source": [
    "print(df.isnull().sum())"
   ]
  },
  {
   "cell_type": "code",
   "execution_count": 21,
   "metadata": {
    "colab": {
     "base_uri": "https://localhost:8080/",
     "height": 305
    },
    "id": "vKDhkntONZnN",
    "outputId": "68b3f008-b172-4f20-c8ca-8a280284efa1",
    "scrolled": true
   },
   "outputs": [
    {
     "data": {
      "text/html": [
       "<div>\n",
       "<style scoped>\n",
       "    .dataframe tbody tr th:only-of-type {\n",
       "        vertical-align: middle;\n",
       "    }\n",
       "\n",
       "    .dataframe tbody tr th {\n",
       "        vertical-align: top;\n",
       "    }\n",
       "\n",
       "    .dataframe thead th {\n",
       "        text-align: right;\n",
       "    }\n",
       "</style>\n",
       "<table border=\"1\" class=\"dataframe\">\n",
       "  <thead>\n",
       "    <tr style=\"text-align: right;\">\n",
       "      <th></th>\n",
       "      <th>AGE</th>\n",
       "      <th>CUS_Month_Income</th>\n",
       "      <th>CUS_Gender</th>\n",
       "      <th>CUS_Marital_Status</th>\n",
       "      <th>YEARS_WITH_US</th>\n",
       "      <th>total debit amount</th>\n",
       "      <th>total debit transactions</th>\n",
       "      <th>total credit amount</th>\n",
       "      <th>total credit transactions</th>\n",
       "      <th>CUS_Target</th>\n",
       "      <th>TAR_Desc</th>\n",
       "      <th>Status</th>\n",
       "      <th>CUS_birth_year</th>\n",
       "    </tr>\n",
       "  </thead>\n",
       "  <tbody>\n",
       "    <tr>\n",
       "      <th>0</th>\n",
       "      <td>49</td>\n",
       "      <td>7116.64</td>\n",
       "      <td>MALE</td>\n",
       "      <td>MARRIED</td>\n",
       "      <td>25</td>\n",
       "      <td>4758311.63</td>\n",
       "      <td>887</td>\n",
       "      <td>5659653.33</td>\n",
       "      <td>65</td>\n",
       "      <td>2231</td>\n",
       "      <td>EXECUTIVE</td>\n",
       "      <td>ACTIVE</td>\n",
       "      <td>1970</td>\n",
       "    </tr>\n",
       "    <tr>\n",
       "      <th>1</th>\n",
       "      <td>46</td>\n",
       "      <td>1500000.00</td>\n",
       "      <td>FEMALE</td>\n",
       "      <td>SINGLE</td>\n",
       "      <td>14</td>\n",
       "      <td>139363.22</td>\n",
       "      <td>97</td>\n",
       "      <td>87000.00</td>\n",
       "      <td>10</td>\n",
       "      <td>2223</td>\n",
       "      <td>LOW</td>\n",
       "      <td>ACTIVE</td>\n",
       "      <td>1973</td>\n",
       "    </tr>\n",
       "    <tr>\n",
       "      <th>2</th>\n",
       "      <td>53</td>\n",
       "      <td>5000000.00</td>\n",
       "      <td>FEMALE</td>\n",
       "      <td>SINGLE</td>\n",
       "      <td>14</td>\n",
       "      <td>37375.46</td>\n",
       "      <td>53</td>\n",
       "      <td>1020883.70</td>\n",
       "      <td>27</td>\n",
       "      <td>2222</td>\n",
       "      <td>MIDLE</td>\n",
       "      <td>ACTIVE</td>\n",
       "      <td>1966</td>\n",
       "    </tr>\n",
       "    <tr>\n",
       "      <th>3</th>\n",
       "      <td>15</td>\n",
       "      <td>500.00</td>\n",
       "      <td>FEMALE</td>\n",
       "      <td>SINGLE</td>\n",
       "      <td>14</td>\n",
       "      <td>4000.00</td>\n",
       "      <td>1</td>\n",
       "      <td>76946.96</td>\n",
       "      <td>12</td>\n",
       "      <td>2223</td>\n",
       "      <td>LOW</td>\n",
       "      <td>ACTIVE</td>\n",
       "      <td>2004</td>\n",
       "    </tr>\n",
       "    <tr>\n",
       "      <th>4</th>\n",
       "      <td>48</td>\n",
       "      <td>9000000.00</td>\n",
       "      <td>FEMALE</td>\n",
       "      <td>SINGLE</td>\n",
       "      <td>5</td>\n",
       "      <td>338470.29</td>\n",
       "      <td>60</td>\n",
       "      <td>442100.00</td>\n",
       "      <td>21</td>\n",
       "      <td>2223</td>\n",
       "      <td>LOW</td>\n",
       "      <td>ACTIVE</td>\n",
       "      <td>1971</td>\n",
       "    </tr>\n",
       "    <tr>\n",
       "      <th>5</th>\n",
       "      <td>37</td>\n",
       "      <td>2556.00</td>\n",
       "      <td>MALE</td>\n",
       "      <td>SINGLE</td>\n",
       "      <td>14</td>\n",
       "      <td>1883962.89</td>\n",
       "      <td>490</td>\n",
       "      <td>2037638.47</td>\n",
       "      <td>95</td>\n",
       "      <td>2235</td>\n",
       "      <td>MIDLE</td>\n",
       "      <td>ACTIVE</td>\n",
       "      <td>1982</td>\n",
       "    </tr>\n",
       "    <tr>\n",
       "      <th>6</th>\n",
       "      <td>16</td>\n",
       "      <td>200000.00</td>\n",
       "      <td>FEMALE</td>\n",
       "      <td>SINGLE</td>\n",
       "      <td>14</td>\n",
       "      <td>8693.60</td>\n",
       "      <td>3</td>\n",
       "      <td>0.00</td>\n",
       "      <td>0</td>\n",
       "      <td>2223</td>\n",
       "      <td>LOW</td>\n",
       "      <td>CHURN</td>\n",
       "      <td>2003</td>\n",
       "    </tr>\n",
       "    <tr>\n",
       "      <th>7</th>\n",
       "      <td>39</td>\n",
       "      <td>10000000.00</td>\n",
       "      <td>MALE</td>\n",
       "      <td>MARRIED</td>\n",
       "      <td>14</td>\n",
       "      <td>1477803.14</td>\n",
       "      <td>422</td>\n",
       "      <td>1554678.53</td>\n",
       "      <td>32</td>\n",
       "      <td>2223</td>\n",
       "      <td>LOW</td>\n",
       "      <td>ACTIVE</td>\n",
       "      <td>1980</td>\n",
       "    </tr>\n",
       "    <tr>\n",
       "      <th>8</th>\n",
       "      <td>46</td>\n",
       "      <td>15000000.00</td>\n",
       "      <td>MALE</td>\n",
       "      <td>MARRIED</td>\n",
       "      <td>14</td>\n",
       "      <td>3240369.08</td>\n",
       "      <td>877</td>\n",
       "      <td>3160483.36</td>\n",
       "      <td>49</td>\n",
       "      <td>2212</td>\n",
       "      <td>EXECUTIVE</td>\n",
       "      <td>ACTIVE</td>\n",
       "      <td>1973</td>\n",
       "    </tr>\n",
       "    <tr>\n",
       "      <th>9</th>\n",
       "      <td>59</td>\n",
       "      <td>1500000.00</td>\n",
       "      <td>FEMALE</td>\n",
       "      <td>MARRIED</td>\n",
       "      <td>14</td>\n",
       "      <td>535684.68</td>\n",
       "      <td>130</td>\n",
       "      <td>528046.93</td>\n",
       "      <td>12</td>\n",
       "      <td>2223</td>\n",
       "      <td>LOW</td>\n",
       "      <td>ACTIVE</td>\n",
       "      <td>1960</td>\n",
       "    </tr>\n",
       "    <tr>\n",
       "      <th>10</th>\n",
       "      <td>64</td>\n",
       "      <td>2800000.00</td>\n",
       "      <td>MALE</td>\n",
       "      <td>MARRIED</td>\n",
       "      <td>14</td>\n",
       "      <td>272200.00</td>\n",
       "      <td>127</td>\n",
       "      <td>270870.32</td>\n",
       "      <td>31</td>\n",
       "      <td>2223</td>\n",
       "      <td>LOW</td>\n",
       "      <td>ACTIVE</td>\n",
       "      <td>1955</td>\n",
       "    </tr>\n",
       "    <tr>\n",
       "      <th>11</th>\n",
       "      <td>37</td>\n",
       "      <td>3000.00</td>\n",
       "      <td>MALE</td>\n",
       "      <td>SINGLE</td>\n",
       "      <td>14</td>\n",
       "      <td>6443.30</td>\n",
       "      <td>3</td>\n",
       "      <td>0.00</td>\n",
       "      <td>0</td>\n",
       "      <td>2223</td>\n",
       "      <td>LOW</td>\n",
       "      <td>CHURN</td>\n",
       "      <td>1982</td>\n",
       "    </tr>\n",
       "    <tr>\n",
       "      <th>12</th>\n",
       "      <td>51</td>\n",
       "      <td>1000000.00</td>\n",
       "      <td>MALE</td>\n",
       "      <td>SINGLE</td>\n",
       "      <td>14</td>\n",
       "      <td>150020.72</td>\n",
       "      <td>64</td>\n",
       "      <td>55333.40</td>\n",
       "      <td>6</td>\n",
       "      <td>2222</td>\n",
       "      <td>MIDLE</td>\n",
       "      <td>ACTIVE</td>\n",
       "      <td>1968</td>\n",
       "    </tr>\n",
       "    <tr>\n",
       "      <th>13</th>\n",
       "      <td>43</td>\n",
       "      <td>1000000.00</td>\n",
       "      <td>FEMALE</td>\n",
       "      <td>SINGLE</td>\n",
       "      <td>14</td>\n",
       "      <td>155663.32</td>\n",
       "      <td>30</td>\n",
       "      <td>0.00</td>\n",
       "      <td>0</td>\n",
       "      <td>2223</td>\n",
       "      <td>LOW</td>\n",
       "      <td>ACTIVE</td>\n",
       "      <td>1976</td>\n",
       "    </tr>\n",
       "    <tr>\n",
       "      <th>14</th>\n",
       "      <td>29</td>\n",
       "      <td>1000000.00</td>\n",
       "      <td>MALE</td>\n",
       "      <td>SINGLE</td>\n",
       "      <td>14</td>\n",
       "      <td>661380.78</td>\n",
       "      <td>198</td>\n",
       "      <td>871228.00</td>\n",
       "      <td>40</td>\n",
       "      <td>2223</td>\n",
       "      <td>LOW</td>\n",
       "      <td>ACTIVE</td>\n",
       "      <td>1990</td>\n",
       "    </tr>\n",
       "    <tr>\n",
       "      <th>15</th>\n",
       "      <td>32</td>\n",
       "      <td>1500000.00</td>\n",
       "      <td>MALE</td>\n",
       "      <td>SINGLE</td>\n",
       "      <td>14</td>\n",
       "      <td>1348090.86</td>\n",
       "      <td>406</td>\n",
       "      <td>1036500.00</td>\n",
       "      <td>39</td>\n",
       "      <td>2222</td>\n",
       "      <td>MIDLE</td>\n",
       "      <td>ACTIVE</td>\n",
       "      <td>1987</td>\n",
       "    </tr>\n",
       "    <tr>\n",
       "      <th>16</th>\n",
       "      <td>49</td>\n",
       "      <td>6131000.00</td>\n",
       "      <td>MALE</td>\n",
       "      <td>SINGLE</td>\n",
       "      <td>14</td>\n",
       "      <td>317885.50</td>\n",
       "      <td>53</td>\n",
       "      <td>320151.95</td>\n",
       "      <td>8</td>\n",
       "      <td>2222</td>\n",
       "      <td>MIDLE</td>\n",
       "      <td>ACTIVE</td>\n",
       "      <td>1970</td>\n",
       "    </tr>\n",
       "    <tr>\n",
       "      <th>17</th>\n",
       "      <td>35</td>\n",
       "      <td>250000.00</td>\n",
       "      <td>MALE</td>\n",
       "      <td>SINGLE</td>\n",
       "      <td>14</td>\n",
       "      <td>892966.21</td>\n",
       "      <td>563</td>\n",
       "      <td>993775.97</td>\n",
       "      <td>64</td>\n",
       "      <td>2222</td>\n",
       "      <td>MIDLE</td>\n",
       "      <td>ACTIVE</td>\n",
       "      <td>1984</td>\n",
       "    </tr>\n",
       "    <tr>\n",
       "      <th>18</th>\n",
       "      <td>18</td>\n",
       "      <td>1000000.00</td>\n",
       "      <td>FEMALE</td>\n",
       "      <td>SINGLE</td>\n",
       "      <td>14</td>\n",
       "      <td>1295974.07</td>\n",
       "      <td>218</td>\n",
       "      <td>1129307.81</td>\n",
       "      <td>48</td>\n",
       "      <td>2222</td>\n",
       "      <td>MIDLE</td>\n",
       "      <td>ACTIVE</td>\n",
       "      <td>2001</td>\n",
       "    </tr>\n",
       "    <tr>\n",
       "      <th>19</th>\n",
       "      <td>16</td>\n",
       "      <td>500000.00</td>\n",
       "      <td>MALE</td>\n",
       "      <td>SINGLE</td>\n",
       "      <td>14</td>\n",
       "      <td>148606.03</td>\n",
       "      <td>55</td>\n",
       "      <td>124000.00</td>\n",
       "      <td>17</td>\n",
       "      <td>2223</td>\n",
       "      <td>LOW</td>\n",
       "      <td>ACTIVE</td>\n",
       "      <td>2003</td>\n",
       "    </tr>\n",
       "  </tbody>\n",
       "</table>\n",
       "</div>"
      ],
      "text/plain": [
       "    AGE  CUS_Month_Income CUS_Gender CUS_Marital_Status  YEARS_WITH_US  \\\n",
       "0    49           7116.64       MALE            MARRIED             25   \n",
       "1    46        1500000.00     FEMALE             SINGLE             14   \n",
       "2    53        5000000.00     FEMALE             SINGLE             14   \n",
       "3    15            500.00     FEMALE             SINGLE             14   \n",
       "4    48        9000000.00     FEMALE             SINGLE              5   \n",
       "5    37           2556.00       MALE             SINGLE             14   \n",
       "6    16         200000.00     FEMALE             SINGLE             14   \n",
       "7    39       10000000.00       MALE            MARRIED             14   \n",
       "8    46       15000000.00       MALE            MARRIED             14   \n",
       "9    59        1500000.00     FEMALE            MARRIED             14   \n",
       "10   64        2800000.00       MALE            MARRIED             14   \n",
       "11   37           3000.00       MALE             SINGLE             14   \n",
       "12   51        1000000.00       MALE             SINGLE             14   \n",
       "13   43        1000000.00     FEMALE             SINGLE             14   \n",
       "14   29        1000000.00       MALE             SINGLE             14   \n",
       "15   32        1500000.00       MALE             SINGLE             14   \n",
       "16   49        6131000.00       MALE             SINGLE             14   \n",
       "17   35         250000.00       MALE             SINGLE             14   \n",
       "18   18        1000000.00     FEMALE             SINGLE             14   \n",
       "19   16         500000.00       MALE             SINGLE             14   \n",
       "\n",
       "    total debit amount  total debit transactions  total credit amount  \\\n",
       "0           4758311.63                       887           5659653.33   \n",
       "1            139363.22                        97             87000.00   \n",
       "2             37375.46                        53           1020883.70   \n",
       "3              4000.00                         1             76946.96   \n",
       "4            338470.29                        60            442100.00   \n",
       "5           1883962.89                       490           2037638.47   \n",
       "6              8693.60                         3                 0.00   \n",
       "7           1477803.14                       422           1554678.53   \n",
       "8           3240369.08                       877           3160483.36   \n",
       "9            535684.68                       130            528046.93   \n",
       "10           272200.00                       127            270870.32   \n",
       "11             6443.30                         3                 0.00   \n",
       "12           150020.72                        64             55333.40   \n",
       "13           155663.32                        30                 0.00   \n",
       "14           661380.78                       198            871228.00   \n",
       "15          1348090.86                       406           1036500.00   \n",
       "16           317885.50                        53            320151.95   \n",
       "17           892966.21                       563            993775.97   \n",
       "18          1295974.07                       218           1129307.81   \n",
       "19           148606.03                        55            124000.00   \n",
       "\n",
       "    total credit transactions  CUS_Target   TAR_Desc  Status  CUS_birth_year  \n",
       "0                          65        2231  EXECUTIVE  ACTIVE            1970  \n",
       "1                          10        2223        LOW  ACTIVE            1973  \n",
       "2                          27        2222      MIDLE  ACTIVE            1966  \n",
       "3                          12        2223        LOW  ACTIVE            2004  \n",
       "4                          21        2223        LOW  ACTIVE            1971  \n",
       "5                          95        2235      MIDLE  ACTIVE            1982  \n",
       "6                           0        2223        LOW   CHURN            2003  \n",
       "7                          32        2223        LOW  ACTIVE            1980  \n",
       "8                          49        2212  EXECUTIVE  ACTIVE            1973  \n",
       "9                          12        2223        LOW  ACTIVE            1960  \n",
       "10                         31        2223        LOW  ACTIVE            1955  \n",
       "11                          0        2223        LOW   CHURN            1982  \n",
       "12                          6        2222      MIDLE  ACTIVE            1968  \n",
       "13                          0        2223        LOW  ACTIVE            1976  \n",
       "14                         40        2223        LOW  ACTIVE            1990  \n",
       "15                         39        2222      MIDLE  ACTIVE            1987  \n",
       "16                          8        2222      MIDLE  ACTIVE            1970  \n",
       "17                         64        2222      MIDLE  ACTIVE            1984  \n",
       "18                         48        2222      MIDLE  ACTIVE            2001  \n",
       "19                         17        2223        LOW  ACTIVE            2003  "
      ]
     },
     "execution_count": 21,
     "metadata": {},
     "output_type": "execute_result"
    }
   ],
   "source": [
    "remove = [\"CUS_DOB\", \"CUS_Customer_Since\",\"# total debit transactions for S1\",\"# total debit transactions for S2\",\"# total debit transactions for S3\",\n",
    "          \"total debit amount for S1\",\"total debit amount for S2\",\"total debit amount for S3\",\"total credit amount for S1\",\"total credit amount for S2\",\n",
    "          \"total credit amount for S3\",\"# total credit transactions for S1\",\"# total credit transactions for S2\",\"# total credit transactions for S3\",\"total transactions\"]\n",
    "df.drop(remove, axis=1, inplace=True)\n",
    "df.head(20)\n"
   ]
  },
  {
   "cell_type": "markdown",
   "metadata": {},
   "source": [
    "## Preprocessing"
   ]
  },
  {
   "cell_type": "code",
   "execution_count": 22,
   "metadata": {},
   "outputs": [],
   "source": [
    "# preparing our target variable\n",
    "df[\"Status\"] = df[\"Status\"].replace({\"ACTIVE\": 0, \"CHURN\": 1})"
   ]
  },
  {
   "cell_type": "code",
   "execution_count": 23,
   "metadata": {},
   "outputs": [
    {
     "name": "stdout",
     "output_type": "stream",
     "text": [
      "MALE      737\n",
      "FEMALE    501\n",
      "Name: CUS_Gender, dtype: int64\n"
     ]
    }
   ],
   "source": [
    "print(df['CUS_Gender'].value_counts())"
   ]
  },
  {
   "cell_type": "code",
   "execution_count": 24,
   "metadata": {},
   "outputs": [
    {
     "data": {
      "text/plain": [
       "0    1\n",
       "1    0\n",
       "2    0\n",
       "3    0\n",
       "4    0\n",
       "Name: CUS_Gender, dtype: int64"
      ]
     },
     "execution_count": 24,
     "metadata": {},
     "output_type": "execute_result"
    }
   ],
   "source": [
    "from sklearn.preprocessing import LabelEncoder\n",
    "lab = LabelEncoder()\n",
    "df['CUS_Gender'] = lab.fit_transform(df['CUS_Gender'])\n",
    "df['CUS_Gender'].head()"
   ]
  },
  {
   "cell_type": "code",
   "execution_count": 25,
   "metadata": {},
   "outputs": [
    {
     "data": {
      "text/plain": [
       "0    1\n",
       "1    4\n",
       "2    4\n",
       "3    4\n",
       "4    4\n",
       "Name: CUS_Marital_Status, dtype: int64"
      ]
     },
     "execution_count": 25,
     "metadata": {},
     "output_type": "execute_result"
    }
   ],
   "source": [
    "df['CUS_Marital_Status'] = lab.fit_transform(df['CUS_Marital_Status'])\n",
    "df['CUS_Marital_Status'].head()"
   ]
  },
  {
   "cell_type": "code",
   "execution_count": 26,
   "metadata": {},
   "outputs": [
    {
     "data": {
      "text/plain": [
       "0    0\n",
       "1    1\n",
       "2    2\n",
       "3    1\n",
       "4    1\n",
       "Name: TAR_Desc, dtype: int64"
      ]
     },
     "execution_count": 26,
     "metadata": {},
     "output_type": "execute_result"
    }
   ],
   "source": [
    "df['TAR_Desc'] = lab.fit_transform(df['TAR_Desc'])\n",
    "df['TAR_Desc'].head()"
   ]
  },
  {
   "cell_type": "markdown",
   "metadata": {},
   "source": [
    "## Train & Test Split"
   ]
  },
  {
   "cell_type": "code",
   "execution_count": 27,
   "metadata": {},
   "outputs": [
    {
     "data": {
      "text/plain": [
       "0    1015\n",
       "1     223\n",
       "Name: Status, dtype: int64"
      ]
     },
     "execution_count": 27,
     "metadata": {},
     "output_type": "execute_result"
    }
   ],
   "source": [
    "df['Status'].value_counts()"
   ]
  },
  {
   "cell_type": "code",
   "execution_count": 28,
   "metadata": {},
   "outputs": [
    {
     "data": {
      "text/plain": [
       "Index(['AGE', 'CUS_Month_Income', 'CUS_Gender', 'CUS_Marital_Status',\n",
       "       'YEARS_WITH_US', 'total debit amount', 'total debit transactions',\n",
       "       'total credit amount', 'total credit transactions', 'CUS_Target',\n",
       "       'TAR_Desc', 'Status', 'CUS_birth_year'],\n",
       "      dtype='object')"
      ]
     },
     "execution_count": 28,
     "metadata": {},
     "output_type": "execute_result"
    }
   ],
   "source": [
    "df.columns"
   ]
  },
  {
   "cell_type": "code",
   "execution_count": 29,
   "metadata": {},
   "outputs": [
    {
     "name": "stdout",
     "output_type": "stream",
     "text": [
      "<class 'pandas.core.frame.DataFrame'>\n",
      "Int64Index: 1238 entries, 0 to 1248\n",
      "Data columns (total 13 columns):\n",
      " #   Column                     Non-Null Count  Dtype  \n",
      "---  ------                     --------------  -----  \n",
      " 0   AGE                        1238 non-null   int64  \n",
      " 1   CUS_Month_Income           1238 non-null   float64\n",
      " 2   CUS_Gender                 1238 non-null   int64  \n",
      " 3   CUS_Marital_Status         1238 non-null   int64  \n",
      " 4   YEARS_WITH_US              1238 non-null   int64  \n",
      " 5   total debit amount         1238 non-null   float64\n",
      " 6   total debit transactions   1238 non-null   int64  \n",
      " 7   total credit amount        1238 non-null   float64\n",
      " 8   total credit transactions  1238 non-null   int64  \n",
      " 9   CUS_Target                 1238 non-null   int64  \n",
      " 10  TAR_Desc                   1238 non-null   int64  \n",
      " 11  Status                     1238 non-null   int64  \n",
      " 12  CUS_birth_year             1238 non-null   int64  \n",
      "dtypes: float64(3), int64(10)\n",
      "memory usage: 135.4 KB\n"
     ]
    }
   ],
   "source": [
    "df.info()"
   ]
  },
  {
   "cell_type": "code",
   "execution_count": 30,
   "metadata": {},
   "outputs": [],
   "source": [
    "X = df.drop(\"Status\", axis=1).values"
   ]
  },
  {
   "cell_type": "code",
   "execution_count": 31,
   "metadata": {},
   "outputs": [],
   "source": [
    "y = df['Status'].values"
   ]
  },
  {
   "cell_type": "code",
   "execution_count": 32,
   "metadata": {},
   "outputs": [],
   "source": [
    "from sklearn.model_selection import train_test_split\n",
    "X_train, X_test, y_train, y_test = train_test_split(X, y, test_size=0.30, random_state=42)"
   ]
  },
  {
   "cell_type": "code",
   "execution_count": 33,
   "metadata": {},
   "outputs": [
    {
     "name": "stdout",
     "output_type": "stream",
     "text": [
      "(866, 12)\n",
      "(372, 12)\n",
      "(866,)\n",
      "(372,)\n"
     ]
    }
   ],
   "source": [
    "#Having a look at their shape\n",
    "for i in [X_train, X_test, y_train, y_test]:\n",
    "    print(i.shape)"
   ]
  },
  {
   "cell_type": "code",
   "execution_count": 34,
   "metadata": {},
   "outputs": [],
   "source": [
    "from sklearn.preprocessing import StandardScaler\n",
    "scale = StandardScaler()\n",
    "X_train = scale.fit_transform(X_train)\n",
    "X_test = scale.transform(X_test)"
   ]
  },
  {
   "cell_type": "code",
   "execution_count": 35,
   "metadata": {
    "scrolled": true
   },
   "outputs": [
    {
     "data": {
      "text/plain": [
       "0    0.818707\n",
       "1    0.181293\n",
       "dtype: float64"
      ]
     },
     "execution_count": 35,
     "metadata": {},
     "output_type": "execute_result"
    }
   ],
   "source": [
    "#Checking for distribution of labels\n",
    "ser = pd.Series(y_train)\n",
    "ser.value_counts(normalize=True)"
   ]
  },
  {
   "cell_type": "markdown",
   "metadata": {},
   "source": [
    "## dealing with imbalance data"
   ]
  },
  {
   "cell_type": "code",
   "execution_count": 36,
   "metadata": {},
   "outputs": [
    {
     "data": {
      "image/png": "[encoded data removed]",
      "text/plain": [
       "<Figure size 432x288 with 1 Axes>"
      ]
     },
     "metadata": {
      "needs_background": "light"
     },
     "output_type": "display_data"
    }
   ],
   "source": [
    "sns.countplot(x=df['Status'])\n",
    "plt.show()"
   ]
  },
  {
   "cell_type": "code",
   "execution_count": 37,
   "metadata": {},
   "outputs": [],
   "source": [
    "from sklearn.ensemble import RandomForestClassifier\n",
    "rf=RandomForestClassifier(class_weight={0: 0.18, 1: 0.83})"
   ]
  },
  {
   "cell_type": "code",
   "execution_count": 38,
   "metadata": {},
   "outputs": [],
   "source": [
    "rf.fit(X_train, y_train)\n",
    "y_pred = rf.predict(X_test)"
   ]
  },
  {
   "cell_type": "code",
   "execution_count": 39,
   "metadata": {},
   "outputs": [
    {
     "name": "stdout",
     "output_type": "stream",
     "text": [
      "[[289  17]\n",
      " [ 38  28]]\n",
      "              precision    recall  f1-score   support\n",
      "\n",
      "           0       0.88      0.94      0.91       306\n",
      "           1       0.62      0.42      0.50        66\n",
      "\n",
      "    accuracy                           0.85       372\n",
      "   macro avg       0.75      0.68      0.71       372\n",
      "weighted avg       0.84      0.85      0.84       372\n",
      "\n"
     ]
    }
   ],
   "source": [
    "from sklearn.metrics import confusion_matrix,classification_report\n",
    "print(confusion_matrix(y_test,y_pred))\n",
    "print(classification_report(y_test,y_pred))"
   ]
  },
  {
   "cell_type": "code",
   "execution_count": 40,
   "metadata": {},
   "outputs": [
    {
     "data": {
      "text/plain": [
       "<sklearn.metrics._plot.confusion_matrix.ConfusionMatrixDisplay at 0x7f8e203743d0>"
      ]
     },
     "execution_count": 40,
     "metadata": {},
     "output_type": "execute_result"
    },
    {
     "data": {
      "image/png": "[encoded data removed]",
      "text/plain": [
       "<Figure size 432x288 with 2 Axes>"
      ]
     },
     "metadata": {
      "needs_background": "light"
     },
     "output_type": "display_data"
    }
   ],
   "source": [
    "import warnings\n",
    "warnings.filterwarnings('ignore')\n",
    "from sklearn.metrics import plot_confusion_matrix\n",
    "cm = plot_confusion_matrix(rf, X_test, y_test)\n",
    "cm"
   ]
  },
  {
   "cell_type": "code",
   "execution_count": 41,
   "metadata": {},
   "outputs": [
    {
     "data": {
      "text/plain": [
       "0.6843434343434344"
      ]
     },
     "execution_count": 41,
     "metadata": {},
     "output_type": "execute_result"
    }
   ],
   "source": [
    "from sklearn.metrics import roc_auc_score\n",
    "lr_auc1 = roc_auc_score(y_test, y_pred)\n",
    "lr_auc1"
   ]
  },
  {
   "cell_type": "markdown",
   "metadata": {},
   "source": [
    "## Pickle File"
   ]
  },
  {
   "cell_type": "code",
   "execution_count": 42,
   "metadata": {},
   "outputs": [],
   "source": [
    "import pickle\n",
    "pickle.dump(rf,open(\"Model Classification\",\"wb\"))\n",
    "model = pickle.load(open(\"Model Classification\",\"rb\"))"
   ]
  },
  {
   "cell_type": "code",
   "execution_count": 51,
   "metadata": {},
   "outputs": [
    {
     "data": {
      "text/plain": [
       "array([0])"
      ]
     },
     "execution_count": 51,
     "metadata": {},
     "output_type": "execute_result"
    }
   ],
   "source": [
    "model.predict([[39,1000000,1,1,14,35420,21,4733403,19,2212,0,1980]])"
   ]
  }
 ],
 "metadata": {
  "colab": {
   "collapsed_sections": [],
   "name": "Next best action model for standard bank.ipynb",
   "provenance": []
  },
  "kernelspec": {
   "display_name": "Python 3 (ipykernel)",
   "language": "python",
   "name": "python3"
  },
  "language_info": {
   "codemirror_mode": {
    "name": "ipython",
    "version": 3
   },
   "file_extension": ".py",
   "mimetype": "text/x-python",
   "name": "python",
   "nbconvert_exporter": "python",
   "pygments_lexer": "ipython3",
   "version": "3.7.11"
  }
 },
 "nbformat": 4,
 "nbformat_minor": 1
}
